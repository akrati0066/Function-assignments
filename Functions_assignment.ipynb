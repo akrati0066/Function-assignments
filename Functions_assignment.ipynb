{
  "nbformat": 4,
  "nbformat_minor": 0,
  "metadata": {
    "colab": {
      "provenance": []
    },
    "kernelspec": {
      "name": "python3",
      "display_name": "Python 3"
    },
    "language_info": {
      "name": "python"
    }
  },
  "cells": [
    {
      "cell_type": "code",
      "execution_count": null,
      "metadata": {
        "id": "4SUSb9UbyutJ"
      },
      "outputs": [],
      "source": [
        "#1. Write a Python function that takes a list of numbers as input and returns the sum of all even numbers in the list.\n",
        "def sum_of_even_numbers(numbers):\n",
        "  total = 0\n",
        "  for num in numbers:\n",
        "    if num%2==0:\n",
        "      total+=num\n",
        "  return total"
      ]
    },
    {
      "cell_type": "code",
      "source": [
        "my_list=[1,2,3,4,5,6]"
      ],
      "metadata": {
        "id": "lDZNu9DwzU3q"
      },
      "execution_count": null,
      "outputs": []
    },
    {
      "cell_type": "code",
      "source": [
        "sum_of_even_numbers(my_list)"
      ],
      "metadata": {
        "colab": {
          "base_uri": "https://localhost:8080/"
        },
        "id": "H2OBBiFUzlzn",
        "outputId": "fa4ac5a8-8dcb-4f98-c4c1-4332f847fc93"
      },
      "execution_count": null,
      "outputs": [
        {
          "output_type": "execute_result",
          "data": {
            "text/plain": [
              "12"
            ]
          },
          "metadata": {},
          "execution_count": 4
        }
      ]
    },
    {
      "cell_type": "code",
      "source": [
        "#2. Create a Python function that accepts a string and returns the reverse of that string.\n",
        "def reverse_string(s):\n",
        "  return s[::-1]"
      ],
      "metadata": {
        "id": "J4FJAHBczotg"
      },
      "execution_count": null,
      "outputs": []
    },
    {
      "cell_type": "code",
      "source": [
        "reverse_string(\"mahi\")"
      ],
      "metadata": {
        "colab": {
          "base_uri": "https://localhost:8080/",
          "height": 35
        },
        "id": "X3p20I0n0SuN",
        "outputId": "4ae77cb6-a238-45b3-fecb-e76e36bb438c"
      },
      "execution_count": null,
      "outputs": [
        {
          "output_type": "execute_result",
          "data": {
            "text/plain": [
              "'iham'"
            ],
            "application/vnd.google.colaboratory.intrinsic+json": {
              "type": "string"
            }
          },
          "metadata": {},
          "execution_count": 7
        }
      ]
    },
    {
      "cell_type": "code",
      "source": [
        "#3.  Implement a Python function that takes a list of integers and returns a new list containing the squares of each number.\n",
        "def square_numbers(numbers):\n",
        "  return [num**2 for num in numbers]"
      ],
      "metadata": {
        "id": "-IZpuYBW0ZHy"
      },
      "execution_count": null,
      "outputs": []
    },
    {
      "cell_type": "code",
      "source": [
        "square_numbers(my_list)"
      ],
      "metadata": {
        "colab": {
          "base_uri": "https://localhost:8080/"
        },
        "id": "whII8hCs1D5v",
        "outputId": "5583aa13-336e-434b-a4fa-ffaef3e8f83e"
      },
      "execution_count": null,
      "outputs": [
        {
          "output_type": "execute_result",
          "data": {
            "text/plain": [
              "[1, 4, 9, 16, 25, 36]"
            ]
          },
          "metadata": {},
          "execution_count": 10
        }
      ]
    },
    {
      "cell_type": "code",
      "source": [
        "#4.Write a Python function that checks if a given number is prime or not from 1 to 200.\n",
        "def is_prime(n):\n",
        "  if n<2 or n>200:\n",
        "    return False\n",
        "  for i in range(2,int(n**0.5)+1):\n",
        "    if n%i==0:\n",
        "      return False\n",
        "  return True"
      ],
      "metadata": {
        "id": "pKZjVj3T1Jsg"
      },
      "execution_count": null,
      "outputs": []
    },
    {
      "cell_type": "code",
      "source": [
        "for i in range(1,201):\n",
        " if is_prime(i):\n",
        "  print(f\"{i} is a prime number\")"
      ],
      "metadata": {
        "colab": {
          "base_uri": "https://localhost:8080/"
        },
        "id": "r3mWCnYU2Pui",
        "outputId": "4ad71a53-15b2-4f25-fc84-3e3cd4bd9fc2"
      },
      "execution_count": null,
      "outputs": [
        {
          "output_type": "stream",
          "name": "stdout",
          "text": [
            "2 is a prime number\n",
            "3 is a prime number\n",
            "5 is a prime number\n",
            "7 is a prime number\n",
            "11 is a prime number\n",
            "13 is a prime number\n",
            "17 is a prime number\n",
            "19 is a prime number\n",
            "23 is a prime number\n",
            "29 is a prime number\n",
            "31 is a prime number\n",
            "37 is a prime number\n",
            "41 is a prime number\n",
            "43 is a prime number\n",
            "47 is a prime number\n",
            "53 is a prime number\n",
            "59 is a prime number\n",
            "61 is a prime number\n",
            "67 is a prime number\n",
            "71 is a prime number\n",
            "73 is a prime number\n",
            "79 is a prime number\n",
            "83 is a prime number\n",
            "89 is a prime number\n",
            "97 is a prime number\n",
            "101 is a prime number\n",
            "103 is a prime number\n",
            "107 is a prime number\n",
            "109 is a prime number\n",
            "113 is a prime number\n",
            "127 is a prime number\n",
            "131 is a prime number\n",
            "137 is a prime number\n",
            "139 is a prime number\n",
            "149 is a prime number\n",
            "151 is a prime number\n",
            "157 is a prime number\n",
            "163 is a prime number\n",
            "167 is a prime number\n",
            "173 is a prime number\n",
            "179 is a prime number\n",
            "181 is a prime number\n",
            "191 is a prime number\n",
            "193 is a prime number\n",
            "197 is a prime number\n",
            "199 is a prime number\n"
          ]
        }
      ]
    },
    {
      "cell_type": "code",
      "source": [
        "#5.Create an iterator class in Python that generates the Fibonacci sequence up to a specified number of terms.\n",
        "def __iter__(self,n):\n",
        "  self.n=n\n",
        "  self.current_term=0\n",
        "  self.a,self.b=0,1\n",
        "def __iter__(self):\n",
        "  return self\n",
        "  def __next__(self):\n",
        "    if self.current_term<self.n:\n",
        "      result=self.a\n",
        "      self.a,self.b=self.b,self.a+self.b\n",
        "      self.current_term+=1\n",
        "      return result\n",
        "    else:\n",
        "      raise StopIteration"
      ],
      "metadata": {
        "id": "RZBwvaf12iCp"
      },
      "execution_count": null,
      "outputs": []
    },
    {
      "cell_type": "code",
      "source": [
        "#6.Write a generator function in Python that yields the powers of 2 up to a given exponent.\n",
        "def powers_of_two(n):\n",
        "  for i in range(n+1):\n",
        "    yield 2**i"
      ],
      "metadata": {
        "id": "6dFlAoie4jlh"
      },
      "execution_count": null,
      "outputs": []
    },
    {
      "cell_type": "code",
      "source": [
        "#7. Implement a generator function that reads a file line by line and yields each line as a string.\n",
        "def read_file_line_by_line(file_path):\n",
        "    with open(file_path, 'r') as file:\n",
        "        for line in file:\n",
        "            yield line.rstrip('\\n')"
      ],
      "metadata": {
        "id": "qhLDlzH55N-f"
      },
      "execution_count": null,
      "outputs": []
    },
    {
      "cell_type": "code",
      "source": [
        "for line in read_file('example.txt'):\n",
        "  print(line)\n",
        "#we have used 'example.txt' just as an example to show working of the code"
      ],
      "metadata": {
        "colab": {
          "base_uri": "https://localhost:8080/",
          "height": 176
        },
        "id": "XaQ1qStRNthX",
        "outputId": "f6c5b661-c80c-4460-98b0-e393fccb19b6"
      },
      "execution_count": null,
      "outputs": [
        {
          "output_type": "error",
          "ename": "NameError",
          "evalue": "name 'read_file' is not defined",
          "traceback": [
            "\u001b[0;31m---------------------------------------------------------------------------\u001b[0m",
            "\u001b[0;31mNameError\u001b[0m                                 Traceback (most recent call last)",
            "\u001b[0;32m/tmp/ipython-input-12-1747815647.py\u001b[0m in \u001b[0;36m<cell line: 0>\u001b[0;34m()\u001b[0m\n\u001b[0;32m----> 1\u001b[0;31m \u001b[0;32mfor\u001b[0m \u001b[0mline\u001b[0m \u001b[0;32min\u001b[0m \u001b[0mread_file\u001b[0m\u001b[0;34m(\u001b[0m\u001b[0;34m'example.txt'\u001b[0m\u001b[0;34m)\u001b[0m\u001b[0;34m:\u001b[0m\u001b[0;34m\u001b[0m\u001b[0;34m\u001b[0m\u001b[0m\n\u001b[0m\u001b[1;32m      2\u001b[0m   \u001b[0mprint\u001b[0m\u001b[0;34m(\u001b[0m\u001b[0mline\u001b[0m\u001b[0;34m)\u001b[0m\u001b[0;34m\u001b[0m\u001b[0;34m\u001b[0m\u001b[0m\n\u001b[1;32m      3\u001b[0m \u001b[0;31m#we have used 'example.txt' just as an example to show working of the code\u001b[0m\u001b[0;34m\u001b[0m\u001b[0;34m\u001b[0m\u001b[0m\n",
            "\u001b[0;31mNameError\u001b[0m: name 'read_file' is not defined"
          ]
        }
      ]
    },
    {
      "cell_type": "code",
      "source": [
        "#8.Use a lambda function in Python to sort a list of tuples based on the second element of each tuple.\n",
        "tuples=[(3,6),(1,9),(2,4),(5,1)]\n",
        "sorted_tuples=sorted(tuples,key=lambda x:x[1])\n",
        "print(sorted_tuples)"
      ],
      "metadata": {
        "colab": {
          "base_uri": "https://localhost:8080/"
        },
        "id": "YOZ0UDmDH1-i",
        "outputId": "53abba1c-de37-4496-a290-6ab629617539"
      },
      "execution_count": null,
      "outputs": [
        {
          "output_type": "stream",
          "name": "stdout",
          "text": [
            "[(5, 1), (2, 4), (3, 6), (1, 9)]\n"
          ]
        }
      ]
    },
    {
      "cell_type": "code",
      "source": [
        "#9.Write a Python program that uses `map()` to convert a list of temperatures from Celsius to Fahrenheit.\n",
        "def celsius_to_farenheit(celsius):\n",
        "  return(celsius*9/5)+32\n",
        "  celsius_temps=[0,10,20,30,40]\n",
        "  farenheit_temps=list(map(celsius_to_farenheit,celsius_temps))\n",
        "  print(\"Celsius:\",celsius_temps)\n",
        "  print(\"Farenheit:\",farenheit_temps)"
      ],
      "metadata": {
        "id": "kPqaUCcmIhKJ"
      },
      "execution_count": null,
      "outputs": []
    },
    {
      "cell_type": "code",
      "source": [
        "#10.Create a Python program that uses `filter()` to remove all the vowels from a given string.\n",
        "def remove_vowels(input_str):\n",
        "    vowels = 'aeiouAEIOU'\n",
        "    result = ''.join(filter(lambda char: char not in vowels, input_str))\n",
        "    return result\n",
        "\n",
        "# Example usage\n",
        "user_input = input(\"Enter a string: \")\n",
        "output = remove_vowels(user_input)\n",
        "print(\"String without vowels:\", output)\n"
      ],
      "metadata": {
        "id": "d4bXuy34JtCw",
        "colab": {
          "base_uri": "https://localhost:8080/"
        },
        "outputId": "fdd4f412-abfe-4934-bb7b-43f1d5507a39"
      },
      "execution_count": null,
      "outputs": [
        {
          "output_type": "stream",
          "name": "stdout",
          "text": [
            "Enter a string: mahi\n",
            "String without vowels: mh\n"
          ]
        }
      ]
    },
    {
      "cell_type": "code",
      "source": [
        "#11. Imagine an accounting routine used in a book shop. It works on a list with sublists, which look like this:\n",
        "#Write a Python program, which returns a list with 2-tuples. Each tuple consists of the order number and the\n",
        "#product of the price per item and the quantity. The product should be increased by 10,- € if the value of the\n",
        "#order is smaller than 100,00 €. Write a Python program using lambda and map.\n",
        "orders = [\n",
        "    [34587, \"Learning Python, Mark Lutz\", 4, 40.95],[98762, \"Programming Python, Mark Lutz\", 5, 56.80],[77226, \"Head First Python, Paul Barry\", 3, 32.95],[88112, \"Einführung in Python3, Bernd Klein\", 3, 24.99]\n",
        "]\n",
        "invoice=list(map(lambda order:(order[0],round(order[2]*order[3]+(10 if order[2]*order[3]<100 else 0),2)),orders))\n",
        "print(invoice)"
      ],
      "metadata": {
        "colab": {
          "base_uri": "https://localhost:8080/"
        },
        "id": "M1qwzmQWKV-4",
        "outputId": "dc4be86c-a633-4ac0-aae5-14393bf56316"
      },
      "execution_count": null,
      "outputs": [
        {
          "output_type": "stream",
          "name": "stdout",
          "text": [
            "[(34587, 163.8), (98762, 284.0), (77226, 108.85), (88112, 84.97)]\n"
          ]
        }
      ]
    },
    {
      "cell_type": "code",
      "source": [],
      "metadata": {
        "id": "DCTS2v8xMhRP"
      },
      "execution_count": null,
      "outputs": []
    }
  ]
}